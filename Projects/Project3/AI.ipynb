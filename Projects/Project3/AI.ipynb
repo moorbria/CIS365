{
 "cells": [
  {
   "cell_type": "markdown",
   "metadata": {},
   "source": [
    "# GA Hello World\n",
    "\n",
    "### Overview\n",
    "\n",
    "#### Generalized Pseudo Code\n",
    "\n",
    "```\n",
    "GA()\n",
    "   initialize population\n",
    "   find fitness of population\n",
    "   \n",
    "   while (termination criteria is reached) do\n",
    "      parent selection\n",
    "      crossover with probability pc\n",
    "      mutation with probability pm\n",
    "      decode and fitness calculation\n",
    "      survivor selection\n",
    "      find best\n",
    "   return best\n",
    "```\n",
    "\n",
    "#### Initialize Population\n",
    "\n",
    "* Hybrid Random/Heuristic Initializtion\n",
    "    * 20% Heuristic 80% Random Initialization\n",
    "    * Will give the GA a \"kickstart\" in what we hope is the right direction for training\n",
    "\n",
    "#### Fitness of population\n",
    "1. `fitness = landing on platform`\n",
    "    a. Nearly impossible for early evolutions to land on the platform\n",
    "2. `fitness = 10*(landing on platform) + 4(1/distance from center) + 2(correct landing speed) + (angle of rocket) + (speed of solution)`\n",
    "    a. May be too complicated?\n",
    "\n",
    "#### Parent Selection\n",
    "* Rank\n",
    "    * Will use initially since it is probably easier to implement\n",
    "* Tournament\n",
    "    * If time allots we can test this\n",
    "\n",
    "#### Crossover with Probabilty pc\n",
    "* One Point\n",
    "    * Easy to implement\n",
    "    * May be the let optimal crossover\n",
    "* Multi Point\n",
    "    * Probably just as easy to implement\n",
    "    * Will be more optimal than one point\n",
    "\n",
    "#### Mutation with probabilty pm\n",
    "* Low probability of mutation but at least some\n",
    "\n",
    "#### Survivor Selection\n",
    "* Pick survivors based on fitness"
   ]
  },
  {
   "cell_type": "markdown",
   "metadata": {},
   "source": [
    "# OneMax Example with DEAP"
   ]
  },
  {
   "cell_type": "code",
   "execution_count": 3,
   "metadata": {},
   "outputs": [],
   "source": [
    "import random\n",
    "from deap import creator, base, tools, algorithms\n",
    "\n",
    "creator.create(\"FitnessMax\", base.Fitness, weights=(1.0,))\n",
    "creator.create(\"Individual\", list, fitness=creator.FitnessMax)\n",
    "\n",
    "toolbox = base.Toolbox()\n",
    "\n",
    "toolbox.register(\"attr_bool\", random.randint, 0, 1)\n",
    "toolbox.register(\"individual\", tools.initRepeat, creator.Individual, toolbox.attr_bool, n=100)\n",
    "toolbox.register(\"population\", tools.initRepeat, list, toolbox.individual)\n",
    "\n",
    "def evalOneMax(individual):\n",
    "    return sum(individual),\n",
    "\n",
    "toolbox.register(\"evaluate\", evalOneMax)\n",
    "toolbox.register(\"mate\", tools.cxTwoPoint)\n",
    "toolbox.register(\"mutate\", tools.mutFlipBit, indpb=0.05)\n",
    "toolbox.register(\"select\", tools.selTournament, tournsize=3)\n",
    "\n",
    "population = toolbox.population(n=300)\n",
    "\n",
    "NGEN=40\n",
    "for gen in range(NGEN):\n",
    "    offspring = algorithms.varAnd(population, toolbox, cxpb=0.5, mutpb=0.1)\n",
    "    fits = toolbox.map(toolbox.evaluate, offspring)\n",
    "    for fit, ind in zip(fits, offspring):\n",
    "        ind.fitness.values = fit\n",
    "    population = toolbox.select(offspring, k=len(population))\n",
    "top10 = tools.selBest(population, k=10)"
   ]
  },
  {
   "cell_type": "markdown",
   "metadata": {},
   "source": [
    "### Info for rocket controlling\n",
    "\n",
    "The rocket is controlled by passing a three element array to `env.step()`. Each index of the array can be from a -1 to a 1. The value control the following:\n",
    "\n",
    "* Frist index\n",
    "    * Controls the gimbal (angle of main bottom booster)\n",
    "    * Positive value angles gimbal left\n",
    "    * Negative value angles gimbal right\n",
    "* Second index\n",
    "    * Controls throttle (main bottom booster)\n",
    "    * Positive value increases throttle\n",
    "    * Negative value decreases throttle\n",
    "* Third index\n",
    "    * Controls thrusters\n",
    "    * Positive value turns on right thruster\n",
    "    * Negative value turns on left thruster\n",
    "    "
   ]
  },
  {
   "cell_type": "code",
   "execution_count": null,
   "metadata": {},
   "outputs": [],
   "source": [
    "import unittest\n",
    "\n",
    "class "
   ]
  }
 ],
 "metadata": {
  "kernelspec": {
   "display_name": "Python 3",
   "language": "python",
   "name": "python3"
  },
  "language_info": {
   "codemirror_mode": {
    "name": "ipython",
    "version": 3
   },
   "file_extension": ".py",
   "mimetype": "text/x-python",
   "name": "python",
   "nbconvert_exporter": "python",
   "pygments_lexer": "ipython3",
   "version": "3.4.5"
  }
 },
 "nbformat": 4,
 "nbformat_minor": 2
}
